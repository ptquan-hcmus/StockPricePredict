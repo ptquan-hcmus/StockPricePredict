{
 "cells": [
  {
   "cell_type": "markdown",
   "metadata": {
    "id": "scvw0LKs0_fE"
   },
   "source": [
    "## 1. Data"
   ]
  },
  {
   "cell_type": "code",
   "execution_count": 1,
   "metadata": {
    "id": "Hhp6d5cUBKvK"
   },
   "outputs": [],
   "source": [
    "# Import\n",
    "import pandas as pd\n",
    "import math\n",
    "import numpy as np\n",
    "from sklearn.preprocessing import MinMaxScaler\n",
    "from sklearn.model_selection import train_test_split\n",
    "from keras.models import Sequential\n",
    "from keras.layers import Dense, LSTM\n",
    "import matplotlib.pyplot as plt\n",
    "plt.style.use('fivethirtyeight')"
   ]
  },
  {
   "cell_type": "code",
   "execution_count": 2,
   "metadata": {
    "id": "EfdC1enfJsfv"
   },
   "outputs": [
    {
     "data": {
      "text/html": [
       "<div>\n",
       "<style scoped>\n",
       "    .dataframe tbody tr th:only-of-type {\n",
       "        vertical-align: middle;\n",
       "    }\n",
       "\n",
       "    .dataframe tbody tr th {\n",
       "        vertical-align: top;\n",
       "    }\n",
       "\n",
       "    .dataframe thead th {\n",
       "        text-align: right;\n",
       "    }\n",
       "</style>\n",
       "<table border=\"1\" class=\"dataframe\">\n",
       "  <thead>\n",
       "    <tr style=\"text-align: right;\">\n",
       "      <th></th>\n",
       "      <th>open</th>\n",
       "      <th>high</th>\n",
       "      <th>low</th>\n",
       "      <th>close</th>\n",
       "      <th>volume</th>\n",
       "      <th>OBV</th>\n",
       "      <th>Chaikin A/D</th>\n",
       "      <th>ADX</th>\n",
       "      <th>CCI</th>\n",
       "      <th>Aroon Down</th>\n",
       "      <th>Aroon Up</th>\n",
       "      <th>SMA</th>\n",
       "      <th>EMA</th>\n",
       "      <th>RSI</th>\n",
       "      <th>MACD</th>\n",
       "      <th>MACD_Hist</th>\n",
       "      <th>MACD_Signal</th>\n",
       "      <th>Real Lower Band</th>\n",
       "      <th>Real Middle Band</th>\n",
       "      <th>Real Upper Band</th>\n",
       "    </tr>\n",
       "    <tr>\n",
       "      <th>timestamp</th>\n",
       "      <th></th>\n",
       "      <th></th>\n",
       "      <th></th>\n",
       "      <th></th>\n",
       "      <th></th>\n",
       "      <th></th>\n",
       "      <th></th>\n",
       "      <th></th>\n",
       "      <th></th>\n",
       "      <th></th>\n",
       "      <th></th>\n",
       "      <th></th>\n",
       "      <th></th>\n",
       "      <th></th>\n",
       "      <th></th>\n",
       "      <th></th>\n",
       "      <th></th>\n",
       "      <th></th>\n",
       "      <th></th>\n",
       "      <th></th>\n",
       "    </tr>\n",
       "  </thead>\n",
       "  <tbody>\n",
       "    <tr>\n",
       "      <td>2020-12-15</td>\n",
       "      <td>124.39</td>\n",
       "      <td>125.9300</td>\n",
       "      <td>123.44</td>\n",
       "      <td>125.93</td>\n",
       "      <td>4244366</td>\n",
       "      <td>344637391.0</td>\n",
       "      <td>4.001680e+08</td>\n",
       "      <td>35.3346</td>\n",
       "      <td>-1.5024</td>\n",
       "      <td>10.0</td>\n",
       "      <td>60.0</td>\n",
       "      <td>125.132</td>\n",
       "      <td>124.5758</td>\n",
       "      <td>60.2340</td>\n",
       "      <td>2.1008</td>\n",
       "      <td>-0.0505</td>\n",
       "      <td>2.1513</td>\n",
       "      <td>122.7571</td>\n",
       "      <td>125.132</td>\n",
       "      <td>127.5069</td>\n",
       "    </tr>\n",
       "    <tr>\n",
       "      <td>2020-12-14</td>\n",
       "      <td>125.32</td>\n",
       "      <td>126.2435</td>\n",
       "      <td>123.47</td>\n",
       "      <td>123.53</td>\n",
       "      <td>5050023</td>\n",
       "      <td>340393025.0</td>\n",
       "      <td>3.959236e+08</td>\n",
       "      <td>35.8042</td>\n",
       "      <td>-45.7364</td>\n",
       "      <td>20.0</td>\n",
       "      <td>70.0</td>\n",
       "      <td>124.855</td>\n",
       "      <td>124.2749</td>\n",
       "      <td>52.8034</td>\n",
       "      <td>2.1006</td>\n",
       "      <td>-0.0634</td>\n",
       "      <td>2.1640</td>\n",
       "      <td>122.2793</td>\n",
       "      <td>124.855</td>\n",
       "      <td>127.4307</td>\n",
       "    </tr>\n",
       "    <tr>\n",
       "      <td>2020-12-11</td>\n",
       "      <td>124.08</td>\n",
       "      <td>125.5100</td>\n",
       "      <td>123.61</td>\n",
       "      <td>124.27</td>\n",
       "      <td>4481416</td>\n",
       "      <td>345443048.0</td>\n",
       "      <td>4.007551e+08</td>\n",
       "      <td>36.2801</td>\n",
       "      <td>-35.5636</td>\n",
       "      <td>30.0</td>\n",
       "      <td>80.0</td>\n",
       "      <td>124.854</td>\n",
       "      <td>124.4404</td>\n",
       "      <td>55.6912</td>\n",
       "      <td>2.3141</td>\n",
       "      <td>0.1343</td>\n",
       "      <td>2.1798</td>\n",
       "      <td>122.2762</td>\n",
       "      <td>124.854</td>\n",
       "      <td>127.4318</td>\n",
       "    </tr>\n",
       "    <tr>\n",
       "      <td>2020-12-10</td>\n",
       "      <td>126.35</td>\n",
       "      <td>126.9300</td>\n",
       "      <td>124.94</td>\n",
       "      <td>124.96</td>\n",
       "      <td>4803172</td>\n",
       "      <td>349924464.0</td>\n",
       "      <td>4.021231e+08</td>\n",
       "      <td>37.3760</td>\n",
       "      <td>47.2494</td>\n",
       "      <td>0.0</td>\n",
       "      <td>90.0</td>\n",
       "      <td>124.862</td>\n",
       "      <td>124.4783</td>\n",
       "      <td>58.3700</td>\n",
       "      <td>2.4776</td>\n",
       "      <td>0.3314</td>\n",
       "      <td>2.1462</td>\n",
       "      <td>122.2911</td>\n",
       "      <td>124.862</td>\n",
       "      <td>127.4329</td>\n",
       "    </tr>\n",
       "    <tr>\n",
       "      <td>2020-12-09</td>\n",
       "      <td>125.80</td>\n",
       "      <td>127.6900</td>\n",
       "      <td>125.70</td>\n",
       "      <td>126.79</td>\n",
       "      <td>6513517</td>\n",
       "      <td>354727636.0</td>\n",
       "      <td>4.068298e+08</td>\n",
       "      <td>36.6486</td>\n",
       "      <td>138.2548</td>\n",
       "      <td>0.0</td>\n",
       "      <td>100.0</td>\n",
       "      <td>124.786</td>\n",
       "      <td>124.3712</td>\n",
       "      <td>65.9413</td>\n",
       "      <td>2.5800</td>\n",
       "      <td>0.5166</td>\n",
       "      <td>2.0634</td>\n",
       "      <td>122.1864</td>\n",
       "      <td>124.786</td>\n",
       "      <td>127.3856</td>\n",
       "    </tr>\n",
       "  </tbody>\n",
       "</table>\n",
       "</div>"
      ],
      "text/plain": [
       "              open      high     low   close   volume          OBV  \\\n",
       "timestamp                                                            \n",
       "2020-12-15  124.39  125.9300  123.44  125.93  4244366  344637391.0   \n",
       "2020-12-14  125.32  126.2435  123.47  123.53  5050023  340393025.0   \n",
       "2020-12-11  124.08  125.5100  123.61  124.27  4481416  345443048.0   \n",
       "2020-12-10  126.35  126.9300  124.94  124.96  4803172  349924464.0   \n",
       "2020-12-09  125.80  127.6900  125.70  126.79  6513517  354727636.0   \n",
       "\n",
       "             Chaikin A/D      ADX       CCI  Aroon Down  Aroon Up      SMA  \\\n",
       "timestamp                                                                    \n",
       "2020-12-15  4.001680e+08  35.3346   -1.5024        10.0      60.0  125.132   \n",
       "2020-12-14  3.959236e+08  35.8042  -45.7364        20.0      70.0  124.855   \n",
       "2020-12-11  4.007551e+08  36.2801  -35.5636        30.0      80.0  124.854   \n",
       "2020-12-10  4.021231e+08  37.3760   47.2494         0.0      90.0  124.862   \n",
       "2020-12-09  4.068298e+08  36.6486  138.2548         0.0     100.0  124.786   \n",
       "\n",
       "                 EMA      RSI    MACD  MACD_Hist  MACD_Signal  \\\n",
       "timestamp                                                       \n",
       "2020-12-15  124.5758  60.2340  2.1008    -0.0505       2.1513   \n",
       "2020-12-14  124.2749  52.8034  2.1006    -0.0634       2.1640   \n",
       "2020-12-11  124.4404  55.6912  2.3141     0.1343       2.1798   \n",
       "2020-12-10  124.4783  58.3700  2.4776     0.3314       2.1462   \n",
       "2020-12-09  124.3712  65.9413  2.5800     0.5166       2.0634   \n",
       "\n",
       "            Real Lower Band  Real Middle Band  Real Upper Band  \n",
       "timestamp                                                       \n",
       "2020-12-15         122.7571           125.132         127.5069  \n",
       "2020-12-14         122.2793           124.855         127.4307  \n",
       "2020-12-11         122.2762           124.854         127.4318  \n",
       "2020-12-10         122.2911           124.862         127.4329  \n",
       "2020-12-09         122.1864           124.786         127.3856  "
      ]
     },
     "execution_count": 2,
     "metadata": {},
     "output_type": "execute_result"
    }
   ],
   "source": [
    "df = pd.read_csv('df.csv', index_col = 'timestamp')\n",
    "df.head()"
   ]
  },
  {
   "cell_type": "code",
   "execution_count": 3,
   "metadata": {
    "colab": {
     "base_uri": "https://localhost:8080/"
    },
    "id": "NCzbAlSmDbrE",
    "outputId": "3a0bc0f7-5693-4802-a514-1922c05b7bcc"
   },
   "outputs": [
    {
     "data": {
      "text/plain": [
       "Index(['2020-12-15', '2020-12-14', '2020-12-11', '2020-12-10', '2020-12-09',\n",
       "       '2020-12-08', '2020-12-07', '2020-12-04', '2020-12-03', '2020-12-02',\n",
       "       ...\n",
       "       '1999-12-31', '1999-12-30', '1999-12-29', '1999-12-28', '1999-12-27',\n",
       "       '1999-12-23', '1999-12-22', '1999-12-21', '1999-12-20', '1999-12-17'],\n",
       "      dtype='object', name='timestamp', length=5283)"
      ]
     },
     "execution_count": 3,
     "metadata": {},
     "output_type": "execute_result"
    }
   ],
   "source": [
    "df.index"
   ]
  },
  {
   "cell_type": "code",
   "execution_count": 4,
   "metadata": {
    "id": "v5kBI09bDvQ9"
   },
   "outputs": [
    {
     "data": {
      "text/plain": [
       "DatetimeIndex(['2020-12-15', '2020-12-14', '2020-12-11', '2020-12-10',\n",
       "               '2020-12-09', '2020-12-08', '2020-12-07', '2020-12-04',\n",
       "               '2020-12-03', '2020-12-02',\n",
       "               ...\n",
       "               '1999-12-31', '1999-12-30', '1999-12-29', '1999-12-28',\n",
       "               '1999-12-27', '1999-12-23', '1999-12-22', '1999-12-21',\n",
       "               '1999-12-20', '1999-12-17'],\n",
       "              dtype='datetime64[ns]', name='timestamp', length=5283, freq=None)"
      ]
     },
     "execution_count": 4,
     "metadata": {},
     "output_type": "execute_result"
    }
   ],
   "source": [
    "df.index = pd.to_datetime(df.index, errors='coerce')\n",
    "df.index"
   ]
  },
  {
   "cell_type": "code",
   "execution_count": 5,
   "metadata": {
    "colab": {
     "base_uri": "https://localhost:8080/",
     "height": 235
    },
    "id": "031HMhWySS3B",
    "outputId": "323210de-dd55-4ebe-d20f-94bb64fcfd52"
   },
   "outputs": [
    {
     "data": {
      "text/html": [
       "<div>\n",
       "<style scoped>\n",
       "    .dataframe tbody tr th:only-of-type {\n",
       "        vertical-align: middle;\n",
       "    }\n",
       "\n",
       "    .dataframe tbody tr th {\n",
       "        vertical-align: top;\n",
       "    }\n",
       "\n",
       "    .dataframe thead th {\n",
       "        text-align: right;\n",
       "    }\n",
       "</style>\n",
       "<table border=\"1\" class=\"dataframe\">\n",
       "  <thead>\n",
       "    <tr style=\"text-align: right;\">\n",
       "      <th></th>\n",
       "      <th>close</th>\n",
       "      <th>EMA</th>\n",
       "      <th>RSI</th>\n",
       "    </tr>\n",
       "    <tr>\n",
       "      <th>timestamp</th>\n",
       "      <th></th>\n",
       "      <th></th>\n",
       "      <th></th>\n",
       "    </tr>\n",
       "  </thead>\n",
       "  <tbody>\n",
       "    <tr>\n",
       "      <td>1999-12-17</td>\n",
       "      <td>110.00</td>\n",
       "      <td>69.7926</td>\n",
       "      <td>55.2716</td>\n",
       "    </tr>\n",
       "    <tr>\n",
       "      <td>1999-12-20</td>\n",
       "      <td>109.20</td>\n",
       "      <td>69.7471</td>\n",
       "      <td>53.0379</td>\n",
       "    </tr>\n",
       "    <tr>\n",
       "      <td>1999-12-21</td>\n",
       "      <td>110.12</td>\n",
       "      <td>69.8164</td>\n",
       "      <td>55.3439</td>\n",
       "    </tr>\n",
       "    <tr>\n",
       "      <td>1999-12-22</td>\n",
       "      <td>108.00</td>\n",
       "      <td>69.6276</td>\n",
       "      <td>49.1629</td>\n",
       "    </tr>\n",
       "    <tr>\n",
       "      <td>1999-12-23</td>\n",
       "      <td>108.62</td>\n",
       "      <td>69.5450</td>\n",
       "      <td>50.9433</td>\n",
       "    </tr>\n",
       "  </tbody>\n",
       "</table>\n",
       "</div>"
      ],
      "text/plain": [
       "             close      EMA      RSI\n",
       "timestamp                           \n",
       "1999-12-17  110.00  69.7926  55.2716\n",
       "1999-12-20  109.20  69.7471  53.0379\n",
       "1999-12-21  110.12  69.8164  55.3439\n",
       "1999-12-22  108.00  69.6276  49.1629\n",
       "1999-12-23  108.62  69.5450  50.9433"
      ]
     },
     "execution_count": 5,
     "metadata": {},
     "output_type": "execute_result"
    }
   ],
   "source": [
    "# Lấy giá đóng mỗi ngày, EMA và 'RSI'\n",
    "EMA_df = df[['close', 'EMA', 'RSI']]\n",
    "EMA_df = EMA_df.iloc[::-1]\n",
    "EMA_df.head()"
   ]
  },
  {
   "cell_type": "code",
   "execution_count": 6,
   "metadata": {
    "colab": {
     "base_uri": "https://localhost:8080/"
    },
    "id": "923pZ7YBS-cv",
    "outputId": "8620726e-363b-45c7-b53c-affe05bc008e"
   },
   "outputs": [
    {
     "data": {
      "text/plain": [
       "array([[110.    ,  69.7926,  55.2716],\n",
       "       [109.2   ,  69.7471,  53.0379],\n",
       "       [110.12  ,  69.8164,  55.3439],\n",
       "       [108.    ,  69.6276,  49.1629],\n",
       "       [108.62  ,  69.545 ,  50.9433]])"
      ]
     },
     "execution_count": 6,
     "metadata": {},
     "output_type": "execute_result"
    }
   ],
   "source": [
    "# Chuyển về dạng numpy\n",
    "dataset = EMA_df[['close', 'EMA', 'RSI']].values\n",
    "dataset[:5]"
   ]
  },
  {
   "cell_type": "code",
   "execution_count": 7,
   "metadata": {
    "colab": {
     "base_uri": "https://localhost:8080/"
    },
    "id": "xRvRw3y2Tt2u",
    "outputId": "0dfda232-54da-46af-9f8f-9e5f96dafd25"
   },
   "outputs": [
    {
     "data": {
      "text/plain": [
       "5283"
      ]
     },
     "execution_count": 7,
     "metadata": {},
     "output_type": "execute_result"
    }
   ],
   "source": [
    "len(dataset)"
   ]
  },
  {
   "cell_type": "code",
   "execution_count": 8,
   "metadata": {
    "id": "4DAUv8YUVwTW"
   },
   "outputs": [],
   "source": [
    "# Mỗi dòng của X là data của 60 ngày trước, mỗi dòng của y là giá của ngày đó\n",
    "X, y = [], []\n",
    "for i in range(60, len(dataset)):\n",
    "  X.append(dataset[i-60:i][:])\n",
    "  y.append(dataset[i][0])"
   ]
  },
  {
   "cell_type": "code",
   "execution_count": 9,
   "metadata": {
    "id": "IHRMpPdSXfMX"
   },
   "outputs": [],
   "source": [
    "# Chia train:val:test theo tỉ lệ 8:1:1\n",
    "X_train, y_train = np.array(X[:math.ceil(len(X)*0.8)]), np.array(y[:math.ceil(len(X)*0.8)])\n",
    "X_val, y_val = np.array(X[math.ceil(len(X)*0.8):math.ceil(len(X)*0.9)]), np.array(y[math.ceil(len(X)*0.8):math.ceil(len(X)*0.9)])\n",
    "X_test, y_test = np.array(X[math.ceil(len(X)*0.9):]), np.array(y[math.ceil(len(X)*0.9):])"
   ]
  },
  {
   "cell_type": "code",
   "execution_count": 10,
   "metadata": {
    "colab": {
     "base_uri": "https://localhost:8080/"
    },
    "id": "H3SA0yAXYDAB",
    "outputId": "31abea68-9e1f-4904-bb3f-3dc0b155b0db"
   },
   "outputs": [
    {
     "name": "stdout",
     "output_type": "stream",
     "text": [
      "Size train:  (4179, 60, 3)\n",
      "Size validate:  (522, 60, 3)\n",
      "Size test:  (522, 60, 3)\n"
     ]
    }
   ],
   "source": [
    "print(\"Size train: \", X_train.shape)\n",
    "print(\"Size validate: \", X_val.shape)\n",
    "print(\"Size test: \", X_test.shape)"
   ]
  },
  {
   "cell_type": "markdown",
   "metadata": {
    "id": "HNhDmwvg1E0z"
   },
   "source": [
    "## 2. Model\n",
    "\n",
    "Ở đây nhóm dùng 2 tầng LSTM 50 unit, sau đó là 1 tầng Dense 20 unit, output tầng Dense 1 unit."
   ]
  },
  {
   "cell_type": "code",
   "execution_count": 14,
   "metadata": {
    "id": "Y-2oEtEKYVbw"
   },
   "outputs": [],
   "source": [
    "#LSTM model\n",
    "model = Sequential()\n",
    "model.add(LSTM(50, return_sequences=True, input_shape = (X_train.shape[1], 3)))\n",
    "model.add(LSTM(50, return_sequences=False))\n",
    "model.add(Dense(20, activation=None))\n",
    "model.add(Dense(1, activation=None))"
   ]
  },
  {
   "cell_type": "code",
   "execution_count": 15,
   "metadata": {
    "id": "RT_v86y1aAIT"
   },
   "outputs": [],
   "source": [
    "model.compile(optimizer='adam', loss = 'mean_squared_error')"
   ]
  },
  {
   "cell_type": "code",
   "execution_count": 16,
   "metadata": {
    "colab": {
     "base_uri": "https://localhost:8080/"
    },
    "id": "qC1-xV3naNSJ",
    "outputId": "c3aa58af-3237-49be-e05f-737aedbf89bc"
   },
   "outputs": [
    {
     "name": "stdout",
     "output_type": "stream",
     "text": [
      "Epoch 1/10\n",
      "131/131 [==============================] - 6s 42ms/step - loss: 11041.0791 - val_loss: 7005.2314\n",
      "Epoch 2/10\n",
      "131/131 [==============================] - 5s 37ms/step - loss: 2499.2097 - val_loss: 1151.1725\n",
      "Epoch 3/10\n",
      "131/131 [==============================] - 5s 37ms/step - loss: 1665.1696 - val_loss: 891.7286\n",
      "Epoch 4/10\n",
      "131/131 [==============================] - 5s 39ms/step - loss: 1264.2948 - val_loss: 224.8484\n",
      "Epoch 5/10\n",
      "131/131 [==============================] - 6s 44ms/step - loss: 228.0335 - val_loss: 232.9307\n",
      "Epoch 6/10\n",
      "131/131 [==============================] - 6s 43ms/step - loss: 52.4838 - val_loss: 75.2285\n",
      "Epoch 7/10\n",
      "131/131 [==============================] - 5s 40ms/step - loss: 22.4645 - val_loss: 31.5111\n",
      "Epoch 8/10\n",
      "131/131 [==============================] - 6s 46ms/step - loss: 15.2168 - val_loss: 23.1693\n",
      "Epoch 9/10\n",
      "131/131 [==============================] - 6s 50ms/step - loss: 11.0048 - val_loss: 29.3799\n",
      "Epoch 10/10\n",
      "131/131 [==============================] - 6s 47ms/step - loss: 9.0529 - val_loss: 22.1433\n"
     ]
    }
   ],
   "source": [
    "#Train the model\n",
    "hist = model.fit(X_train, y_train, batch_size=32, epochs=10, shuffle=True, validation_data=(X_val, y_val))"
   ]
  },
  {
   "cell_type": "code",
   "execution_count": 17,
   "metadata": {
    "colab": {
     "base_uri": "https://localhost:8080/"
    },
    "id": "Avp1rGp1cDys",
    "outputId": "5310e3a6-b8c7-4cec-97af-ddea0611d01f"
   },
   "outputs": [
    {
     "data": {
      "text/plain": [
       "[11041.0791015625,\n",
       " 2499.209716796875,\n",
       " 1665.1695556640625,\n",
       " 1264.2947998046875,\n",
       " 228.03350830078125,\n",
       " 52.4837532043457,\n",
       " 22.464468002319336,\n",
       " 15.216837882995605,\n",
       " 11.004799842834473,\n",
       " 9.052903175354004]"
      ]
     },
     "execution_count": 17,
     "metadata": {},
     "output_type": "execute_result"
    }
   ],
   "source": [
    "hist.history['loss']"
   ]
  },
  {
   "cell_type": "markdown",
   "metadata": {
    "id": "_EMOx-4Eaknu"
   },
   "source": [
    "**Lịch sử huấn luyện**\n",
    "\n",
    "Bởi vì model không được scale về 0-1 (vì giá có thể lên cao nữa nên nhóm quyết định không scale data) nên loss chênh lệch rất lớn, vì vậy khi biểu diễn nhóm thêm 'log' yscale để thể hiện rõ hơn quá trình huấn luyện"
   ]
  },
  {
   "cell_type": "code",
   "execution_count": 18,
   "metadata": {
    "colab": {
     "base_uri": "https://localhost:8080/",
     "height": 415
    },
    "id": "BZBVQ_jQZjgS",
    "outputId": "33ea64a7-0259-4819-cb0f-7e5c45fad294"
   },
   "outputs": [
    {
     "data": {
      "image/png": "[encoded data removed]",
      "text/plain": [
       "<Figure size 2160x720 with 1 Axes>"
      ]
     },
     "metadata": {
      "needs_background": "light"
     },
     "output_type": "display_data"
    }
   ],
   "source": [
    "plt.figure(figsize = (30, 10))\n",
    "plt.plot(np.arange(1, 11), hist.history['loss'])\n",
    "plt.plot(np.arange(1, 11), hist.history['val_loss'])\n",
    "plt.legend(['Train loss', 'Validate losss'], loc = 'upper right')\n",
    "plt.yscale('log')\n",
    "plt.show()"
   ]
  },
  {
   "cell_type": "markdown",
   "metadata": {
    "id": "I6cF7w7wltJN"
   },
   "source": [
    "Theo biểu đồ thì ta nên dừng ở epoch thứ 6"
   ]
  },
  {
   "cell_type": "markdown",
   "metadata": {
    "id": "lHZUhPww1N17"
   },
   "source": [
    "## 3. Đánh giá model"
   ]
  },
  {
   "cell_type": "markdown",
   "metadata": {
    "id": "y7x9iUZ_BC7c"
   },
   "source": [
    "Để công bằng ta sẽ chạy model 20 lần rồi lấy trung bình các chỉ số.\n",
    "\n",
    "Ở đây ta có train loss, validate loss, test loss, rmse, correct direction, profit.\n",
    "\n",
    "Giải thích:\n",
    "- Rmse: Root mean square error (căn trung bình độ lỗi bình phương)\n",
    "- Correct direction: Hướng (lên hoặc xuống) chính xác\n",
    "- Profit: Giả định khi model báo giá lên ta mua vào 1 đồng coin (nếu giá 10\\\\$ thì mua 10\\\\$, giá 100\\\\$ thì mua 100\\\\$). Ta sẽ bán vào giá đóng của ngày hôm sau. Lời lỗ từ đó mà tính ra."
   ]
  },
  {
   "cell_type": "code",
   "execution_count": null,
   "metadata": {
    "colab": {
     "base_uri": "https://localhost:8080/"
    },
    "id": "ZHZTXraVmFFq",
    "outputId": "1bd8d4f5-0d27-493d-c250-8598edb2e56a"
   },
   "outputs": [
    {
     "name": "stdout",
     "output_type": "stream",
     "text": [
      "17/17 [==============================] - 0s 11ms/step - loss: 39.3306\n",
      "17/17 [==============================] - 0s 14ms/step - loss: 83.7393\n",
      "17/17 [==============================] - 0s 16ms/step - loss: 91.1021\n",
      "17/17 [==============================] - 0s 14ms/step - loss: 59.2679\n",
      "17/17 [==============================] - 0s 12ms/step - loss: 36.3218\n",
      "17/17 [==============================] - 0s 14ms/step - loss: 109.9808\n",
      "17/17 [==============================] - 0s 17ms/step - loss: 45.6922\n",
      "17/17 [==============================] - 0s 12ms/step - loss: 458.1756\n",
      "17/17 [==============================] - 0s 16ms/step - loss: 79.8809\n",
      "17/17 [==============================] - 0s 13ms/step - loss: 153.2860\n",
      "17/17 [==============================] - 0s 14ms/step - loss: 221.3814\n",
      "17/17 [==============================] - 0s 15ms/step - loss: 67.6340\n",
      "17/17 [==============================] - 0s 17ms/step - loss: 129.1445\n",
      "17/17 [==============================] - 0s 14ms/step - loss: 221.1855\n"
     ]
    }
   ],
   "source": [
    "indexes = {'train':[], 'val': [], 'test': [], 'rmse': [], 'correct_direction': [], 'profit': []}\n",
    "iteration = 20\n",
    "for i in range(iteration):\n",
    "  # Model\n",
    "  model = Sequential()\n",
    "  model.add(LSTM(50, return_sequences=True, input_shape = (X_train.shape[1], 3)))\n",
    "  model.add(LSTM(50, return_sequences=False))\n",
    "  model.add(Dense(20, activation=None))\n",
    "  model.add(Dense(1, activation=None))\n",
    "  model.compile(optimizer='adam', loss = 'mean_squared_error')\n",
    "  # Fit\n",
    "  hist = model.fit(X_train, y_train, batch_size=32, epochs=8, shuffle=True, validation_data=(X_val, y_val), verbose=0)\n",
    "  # Lấy train loss và validate loss\n",
    "  indexes['train'].append(hist.history['loss'][-1])\n",
    "  indexes['val'].append(hist.history['val_loss'][-1])\n",
    "  # Lấy test loss\n",
    "  test_loss = model.evaluate(X_test, y_test, batch_size=32)\n",
    "  indexes['test'].append(test_loss)\n",
    "  # Lấy prediction để tính rmse, số lượng correct direcion và profit theo giả thuyết\n",
    "  predictions = model.predict(X_test)\n",
    "  predictions = predictions.reshape((1, -1))[0]\n",
    "  rmse = np.sqrt(np.mean((predictions - y_test)**2))\n",
    "  indexes['rmse'].append(rmse)\n",
    "  correct_direction = 0\n",
    "  for j in range(1, len(X_test)):\n",
    "    if (predictions[j] > y_test[j - 1] and y_test[j] > y_test[j - 1]) or (predictions[j] < y_test[j - 1] and y_test[j] < y_test[j - 1]):\n",
    "      correct_direction += 1\n",
    "  indexes['correct_direction'].append(correct_direction/(len(X_test) - 1))\n",
    "  profit = 0\n",
    "  for j in range(1, len(X_test)):\n",
    "    if predictions[j] > y_test[j-1]:\n",
    "      profit += (y_test[j] - y_test[j-1])\n",
    "  indexes['profit'].append(profit)"
   ]
  },
  {
   "cell_type": "code",
   "execution_count": null,
   "metadata": {
    "colab": {
     "base_uri": "https://localhost:8080/"
    },
    "id": "pPG8GVJj9ocl",
    "outputId": "5e583424-4553-4921-bc56-648659d1bdd5"
   },
   "outputs": [],
   "source": [
    "for value in indexes:\n",
    "  print(value, sum(indexes[value])/iteration)"
   ]
  },
  {
   "cell_type": "markdown",
   "metadata": {
    "id": "E80-0RZdQicz"
   },
   "source": [
    "Sau 20 lần chạy (khoảng 40 - 50 phút), 52% hướng dự đoán đúng, trung bình lời 22$, không tệ nhưng cũng không quá tốt. Những lần in ra ở trên là kết quả loss trên tập test (522 mẫu)"
   ]
  },
  {
   "cell_type": "markdown",
   "metadata": {
    "id": "G0ZXpAzJRg8i"
   },
   "source": [
    "Ta sẽ chạy 1 lần nữa để vẽ biểu đồ giá dự đoán"
   ]
  },
  {
   "cell_type": "code",
   "execution_count": null,
   "metadata": {
    "id": "y-87bdMTRoeL"
   },
   "outputs": [],
   "source": [
    "model = Sequential()\n",
    "model.add(LSTM(50, return_sequences=True, input_shape = (X_train.shape[1], 3)))\n",
    "model.add(LSTM(50, return_sequences=False))\n",
    "model.add(Dense(20, activation=None))\n",
    "model.add(Dense(1, activation=None))\n",
    "model.compile(optimizer='adam', loss = 'mean_squared_error')\n",
    "model.fit(X_train, y_train, batch_size=32, epochs=6, shuffle=True, validation_data=(X_val, y_val))\n",
    "predictions = model.predict(X_test)\n",
    "predictions = predictions.reshape((1, -1))[0]"
   ]
  },
  {
   "cell_type": "code",
   "execution_count": null,
   "metadata": {
    "colab": {
     "base_uri": "https://localhost:8080/",
     "height": 235
    },
    "id": "KCFPk7q_gwlg",
    "outputId": "85b0d178-3929-4ce8-d9aa-751bef36c75e"
   },
   "outputs": [],
   "source": [
    "plot_df = EMA_df[['close']]\n",
    "plot_df.head()"
   ]
  },
  {
   "cell_type": "code",
   "execution_count": null,
   "metadata": {},
   "outputs": [],
   "source": [
    "# Mẫu predictions có được\n",
    "predictions[:5]"
   ]
  },
  {
   "cell_type": "code",
   "execution_count": null,
   "metadata": {
    "colab": {
     "base_uri": "https://localhost:8080/",
     "height": 337
    },
    "id": "zsJ0xo1ihiQY",
    "outputId": "1c045e4d-ecd4-479d-8719-644a1cfec809"
   },
   "outputs": [],
   "source": [
    "valid_df = plot_df.iloc[-len(predictions):]\n",
    "valid_df['predictions'] = predictions\n",
    "valid_df.head()"
   ]
  },
  {
   "cell_type": "markdown",
   "metadata": {
    "id": "rvGZ3j8x10h7"
   },
   "source": [
    "Biểu đồ giá close và giá predict"
   ]
  },
  {
   "cell_type": "code",
   "execution_count": null,
   "metadata": {
    "colab": {
     "base_uri": "https://localhost:8080/",
     "height": 415
    },
    "id": "ebW54IhFmXOc",
    "outputId": "fe1f463f-db2f-4032-bc24-70c5d95d52c3"
   },
   "outputs": [],
   "source": [
    "# Biểu đồ tổng quan giá\n",
    "plt.figure(figsize = (20, 10))\n",
    "plt.plot(plot_df['close'])\n",
    "plt.plot(valid_df['predictions'])\n",
    "plt.legend(['True price', 'Predict price'], loc = 'lower right')\n",
    "plt.show()"
   ]
  },
  {
   "cell_type": "code",
   "execution_count": null,
   "metadata": {},
   "outputs": [],
   "source": [
    "# Biểu đồ riêng giá predict trên tập test và giá thực tế\n",
    "plt.figure(figsize = (20, 10))\n",
    "plt.plot(valid_df['close'])\n",
    "plt.plot(valid_df['predictions'])\n",
    "plt.legend(['True price', 'Predict price'], loc = 'lower right')\n",
    "plt.show()"
   ]
  },
  {
   "cell_type": "markdown",
   "metadata": {},
   "source": [
    "Có vẻ như model làm khá tốt việc dự đoán trend, còn về giá chính xác thì không tốt cho lắm"
   ]
  },
  {
   "cell_type": "markdown",
   "metadata": {
    "id": "ZQOKMEa4TJVL"
   },
   "source": [
    "## 4. Kết luận:\n",
    "\n",
    "Đầu tiên nhóm xin được trích dẫn câu nói \"All models are wrong, but some are useful\" nổi tiếng của giáo sư người Anh George E. P. Box - ông nổi tiếng trong lĩnh vực khoa học thống kê trong thế kỉ 20. Vậy nên cũng không nên đặt hi vọng nhiều.\n",
    "\n",
    "Tuy đã có nhiều tiến bộ trong lĩnh vực học máy nhưng dự đoán giá cổ phiếu vẫn còn là điều ít mô hình có thể hoàn thành tốt được.\n",
    "\n",
    "Như kết quả ở trên, bằng việc khảo sát giá và chỉ số EMA trong 60 ngày trước đó, sử dụng mô hình mạng LSTM và mạng Dense thì model hoạt động tạm chấp nhận được với rmse 9,7. Hơn nữa, nhóm đã đi sâu hơn và khảo sát tỉ lệ hướng dự đoán của mô hình cũng như có một thí nghiệm nhỏ xem độ hiệu quả của mô hình. Với 52% hướng dự đoán chính xác và hơn 500 ngày \"ròng rã\" mua bán thì lợi nhuận được khoảng 22$. Đây cũng coi như một thành công nho nhỏ (vì may là chưa lỗ), nhưng qua đó cũng thấy được rằng dự đoán giá cổ phiếu không phải chuyện dễ (nếu dễ thì ai cũng giàu). Nhưng đâu đó vẫn có cơ hội mở ra cho những mô hình mới cải tiến, biết đâu một ngày nào đó bằng sức mạnh máy học có thể chinh phục được điều không tưởng :) (đơn giản là nó đã làm được điều không tưởng trong vài chục năm trước)."
   ]
  },
  {
   "cell_type": "markdown",
   "metadata": {
    "id": "N4hgGXwU2m7L"
   },
   "source": [
    "## 5.Nguồn tham khảo:\n",
    "[Stock Price Prediction Using Python & Machine Learning](https://www.youtube.com/watch?v=QIUxPv5PJOY)"
   ]
  }
 ],
 "metadata": {
  "colab": {
   "collapsed_sections": [],
   "name": "StockPredictModel.ipynb",
   "provenance": []
  },
  "kernelspec": {
   "display_name": "Python 3",
   "language": "python",
   "name": "python3"
  },
  "language_info": {
   "codemirror_mode": {
    "name": "ipython",
    "version": 3
   },
   "file_extension": ".py",
   "mimetype": "text/x-python",
   "name": "python",
   "nbconvert_exporter": "python",
   "pygments_lexer": "ipython3",
   "version": "3.7.4"
  }
 },
 "nbformat": 4,
 "nbformat_minor": 4
}
