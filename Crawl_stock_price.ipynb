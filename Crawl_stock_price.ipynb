{
 "cells": [
  {
   "cell_type": "code",
   "execution_count": 18,
   "metadata": {},
   "outputs": [],
   "source": [
    "import re\n",
    "from selenium import webdriver\n",
    "from selenium.webdriver.common.keys import Keys"
   ]
  },
  {
   "cell_type": "code",
   "execution_count": 2,
   "metadata": {},
   "outputs": [],
   "source": [
    "import pandas as pd"
   ]
  },
  {
   "cell_type": "markdown",
   "metadata": {},
   "source": [
    "# Crawl stock price"
   ]
  },
  {
   "cell_type": "markdown",
   "metadata": {},
   "source": [
    "## Selenium"
   ]
  },
  {
   "cell_type": "code",
   "execution_count": 19,
   "metadata": {},
   "outputs": [],
   "source": [
    "# Historical price of IBM quote\n",
    "url = 'https://www.investing.com/equities/ibm-historical-data'"
   ]
  },
  {
   "cell_type": "code",
   "execution_count": 20,
   "metadata": {},
   "outputs": [],
   "source": [
    "browser = webdriver.Firefox(executable_path='geckodriver.exe')"
   ]
  },
  {
   "cell_type": "code",
   "execution_count": 21,
   "metadata": {},
   "outputs": [],
   "source": [
    "browser.get(url)"
   ]
  },
  {
   "cell_type": "markdown",
   "metadata": {},
   "source": [
    "### Close popup"
   ]
  },
  {
   "cell_type": "code",
   "execution_count": 7,
   "metadata": {},
   "outputs": [],
   "source": [
    "'''\n",
    "Popup depend on guest activity\n",
    "It don't affect the crawling\n",
    "'''\n",
    "# browser.find_element_by_class_name('popupCloseIcon.largeBannerCloser').click()"
   ]
  },
  {
   "cell_type": "markdown",
   "metadata": {},
   "source": [
    "### Click the calendar"
   ]
  },
  {
   "cell_type": "code",
   "execution_count": 22,
   "metadata": {},
   "outputs": [],
   "source": [
    "browser.find_element_by_id('widgetFieldDateRange').click()"
   ]
  },
  {
   "cell_type": "markdown",
   "metadata": {},
   "source": [
    "### Find and input start date to calendar"
   ]
  },
  {
   "cell_type": "code",
   "execution_count": 23,
   "metadata": {},
   "outputs": [],
   "source": [
    "startDate = browser.find_element_by_id('startDate')\n",
    "startDate.clear()\n",
    "startDate.send_keys('02/15/2001')\n",
    "browser.find_element_by_id('applyBtn').send_keys(Keys.ENTER)"
   ]
  },
  {
   "cell_type": "markdown",
   "metadata": {},
   "source": [
    "### Look up value"
   ]
  },
  {
   "cell_type": "code",
   "execution_count": 39,
   "metadata": {},
   "outputs": [
    {
     "data": {
      "text/plain": [
       "5000"
      ]
     },
     "execution_count": 39,
     "metadata": {},
     "output_type": "execute_result"
    }
   ],
   "source": [
    "'''\n",
    "Find the real volume number\n",
    "Eg: <td data-real-value=\"114876432\">114.88M</td>\n",
    "With the volume, we need to take 114876432 from the source code\n",
    "not the text between <td> tag\n",
    "'''\n",
    "\n",
    "page_source = browser.page_source\n",
    "volume = re.findall(r'(data-real-value=\")(\\d+)(\">\\d+.\\d+[BM])', page_source)\n",
    "len(volume)"
   ]
  },
  {
   "cell_type": "code",
   "execution_count": 40,
   "metadata": {},
   "outputs": [],
   "source": [
    "str_xpath = '/html/body/div[5]/section/div[9]/table[1]/tbody/tr[{}]/td[{}]'"
   ]
  },
  {
   "cell_type": "code",
   "execution_count": 41,
   "metadata": {},
   "outputs": [],
   "source": [
    "date = []\n",
    "close = []\n",
    "Open = []\n",
    "high = []\n",
    "low = []\n",
    "vol = []\n",
    "change =[]\n",
    "index = [1, 2, 3, 4, 5, 7]"
   ]
  },
  {
   "cell_type": "code",
   "execution_count": 42,
   "metadata": {},
   "outputs": [
    {
     "name": "stdout",
     "output_type": "stream",
     "text": [
      "Wall time: 7min 46s\n"
     ]
    }
   ],
   "source": [
    "%%time\n",
    "'''\n",
    "Find other fields of the table with text between <td> tag\n",
    "'''\n",
    "for i in range(1, 5000+1):\n",
    "    vol.append(volume[i - 1][1])\n",
    "    for j in index:\n",
    "        xpath = str_xpath.format(i, j)\n",
    "        real_value = browser.find_element_by_xpath(xpath)\n",
    "        if j == 1:\n",
    "            date.append(real_value.text)\n",
    "        if j == 2:\n",
    "            close.append(real_value.text)\n",
    "        if j == 3:\n",
    "            Open.append(real_value.text)\n",
    "        if j == 4:\n",
    "            high.append(real_value.text)\n",
    "        if j == 5:\n",
    "            low.append(real_value.text)\n",
    "        if j == 7:\n",
    "            change.append(real_value.text.strip('%'))"
   ]
  },
  {
   "cell_type": "code",
   "execution_count": 67,
   "metadata": {},
   "outputs": [],
   "source": [
    "browser.quit()"
   ]
  },
  {
   "cell_type": "code",
   "execution_count": 43,
   "metadata": {},
   "outputs": [
    {
     "data": {
      "text/plain": [
       "5000"
      ]
     },
     "execution_count": 43,
     "metadata": {},
     "output_type": "execute_result"
    }
   ],
   "source": [
    "len(date)"
   ]
  },
  {
   "cell_type": "code",
   "execution_count": 44,
   "metadata": {},
   "outputs": [
    {
     "data": {
      "text/plain": [
       "5000"
      ]
     },
     "execution_count": 44,
     "metadata": {},
     "output_type": "execute_result"
    }
   ],
   "source": [
    "len(close)"
   ]
  },
  {
   "cell_type": "code",
   "execution_count": 45,
   "metadata": {},
   "outputs": [
    {
     "data": {
      "text/plain": [
       "5000"
      ]
     },
     "execution_count": 45,
     "metadata": {},
     "output_type": "execute_result"
    }
   ],
   "source": [
    "len(Open)"
   ]
  },
  {
   "cell_type": "code",
   "execution_count": 46,
   "metadata": {},
   "outputs": [
    {
     "data": {
      "text/plain": [
       "5000"
      ]
     },
     "execution_count": 46,
     "metadata": {},
     "output_type": "execute_result"
    }
   ],
   "source": [
    "len(high)"
   ]
  },
  {
   "cell_type": "code",
   "execution_count": 47,
   "metadata": {},
   "outputs": [
    {
     "data": {
      "text/plain": [
       "5000"
      ]
     },
     "execution_count": 47,
     "metadata": {},
     "output_type": "execute_result"
    }
   ],
   "source": [
    "len(low)"
   ]
  },
  {
   "cell_type": "markdown",
   "metadata": {},
   "source": [
    "## Save dataframe"
   ]
  },
  {
   "cell_type": "code",
   "execution_count": 49,
   "metadata": {},
   "outputs": [
    {
     "data": {
      "text/html": [
       "<div>\n",
       "<style scoped>\n",
       "    .dataframe tbody tr th:only-of-type {\n",
       "        vertical-align: middle;\n",
       "    }\n",
       "\n",
       "    .dataframe tbody tr th {\n",
       "        vertical-align: top;\n",
       "    }\n",
       "\n",
       "    .dataframe thead th {\n",
       "        text-align: right;\n",
       "    }\n",
       "</style>\n",
       "<table border=\"1\" class=\"dataframe\">\n",
       "  <thead>\n",
       "    <tr style=\"text-align: right;\">\n",
       "      <th></th>\n",
       "      <th>Date</th>\n",
       "      <th>Close</th>\n",
       "      <th>Open</th>\n",
       "      <th>High</th>\n",
       "      <th>Low</th>\n",
       "      <th>Vol</th>\n",
       "      <th>Change_%</th>\n",
       "    </tr>\n",
       "  </thead>\n",
       "  <tbody>\n",
       "    <tr>\n",
       "      <th>0</th>\n",
       "      <td>Dec 30, 2020</td>\n",
       "      <td>124.34</td>\n",
       "      <td>123.74</td>\n",
       "      <td>124.82</td>\n",
       "      <td>123.63</td>\n",
       "      <td>3380494</td>\n",
       "      <td>0.44</td>\n",
       "    </tr>\n",
       "    <tr>\n",
       "      <th>1</th>\n",
       "      <td>Dec 29, 2020</td>\n",
       "      <td>123.80</td>\n",
       "      <td>125.25</td>\n",
       "      <td>125.48</td>\n",
       "      <td>123.25</td>\n",
       "      <td>3487007</td>\n",
       "      <td>-0.82</td>\n",
       "    </tr>\n",
       "    <tr>\n",
       "      <th>2</th>\n",
       "      <td>Dec 28, 2020</td>\n",
       "      <td>124.82</td>\n",
       "      <td>125.12</td>\n",
       "      <td>126.57</td>\n",
       "      <td>124.46</td>\n",
       "      <td>3615222</td>\n",
       "      <td>0.10</td>\n",
       "    </tr>\n",
       "    <tr>\n",
       "      <th>3</th>\n",
       "      <td>Dec 24, 2020</td>\n",
       "      <td>124.69</td>\n",
       "      <td>125.00</td>\n",
       "      <td>125.10</td>\n",
       "      <td>124.21</td>\n",
       "      <td>1761122</td>\n",
       "      <td>0.64</td>\n",
       "    </tr>\n",
       "    <tr>\n",
       "      <th>4</th>\n",
       "      <td>Dec 23, 2020</td>\n",
       "      <td>123.90</td>\n",
       "      <td>123.93</td>\n",
       "      <td>125.16</td>\n",
       "      <td>123.89</td>\n",
       "      <td>2693889</td>\n",
       "      <td>0.23</td>\n",
       "    </tr>\n",
       "    <tr>\n",
       "      <th>...</th>\n",
       "      <td>...</td>\n",
       "      <td>...</td>\n",
       "      <td>...</td>\n",
       "      <td>...</td>\n",
       "      <td>...</td>\n",
       "      <td>...</td>\n",
       "      <td>...</td>\n",
       "    </tr>\n",
       "    <tr>\n",
       "      <th>4995</th>\n",
       "      <td>Feb 22, 2001</td>\n",
       "      <td>108.90</td>\n",
       "      <td>106.50</td>\n",
       "      <td>110.90</td>\n",
       "      <td>103.38</td>\n",
       "      <td>11709500</td>\n",
       "      <td>1.29</td>\n",
       "    </tr>\n",
       "    <tr>\n",
       "      <th>4996</th>\n",
       "      <td>Feb 21, 2001</td>\n",
       "      <td>107.51</td>\n",
       "      <td>109.55</td>\n",
       "      <td>111.50</td>\n",
       "      <td>107.29</td>\n",
       "      <td>9158200</td>\n",
       "      <td>-3.58</td>\n",
       "    </tr>\n",
       "    <tr>\n",
       "      <th>4997</th>\n",
       "      <td>Feb 20, 2001</td>\n",
       "      <td>111.50</td>\n",
       "      <td>114.55</td>\n",
       "      <td>115.60</td>\n",
       "      <td>110.78</td>\n",
       "      <td>6748300</td>\n",
       "      <td>-3.04</td>\n",
       "    </tr>\n",
       "    <tr>\n",
       "      <th>4998</th>\n",
       "      <td>Feb 16, 2001</td>\n",
       "      <td>115.00</td>\n",
       "      <td>114.55</td>\n",
       "      <td>115.75</td>\n",
       "      <td>113.94</td>\n",
       "      <td>7073000</td>\n",
       "      <td>-1.52</td>\n",
       "    </tr>\n",
       "    <tr>\n",
       "      <th>4999</th>\n",
       "      <td>Feb 15, 2001</td>\n",
       "      <td>116.78</td>\n",
       "      <td>116.80</td>\n",
       "      <td>118.64</td>\n",
       "      <td>116.38</td>\n",
       "      <td>8098700</td>\n",
       "      <td>1.46</td>\n",
       "    </tr>\n",
       "  </tbody>\n",
       "</table>\n",
       "<p>5000 rows × 7 columns</p>\n",
       "</div>"
      ],
      "text/plain": [
       "              Date   Close    Open    High     Low       Vol Change_%\n",
       "0     Dec 30, 2020  124.34  123.74  124.82  123.63   3380494     0.44\n",
       "1     Dec 29, 2020  123.80  125.25  125.48  123.25   3487007    -0.82\n",
       "2     Dec 28, 2020  124.82  125.12  126.57  124.46   3615222     0.10\n",
       "3     Dec 24, 2020  124.69  125.00  125.10  124.21   1761122     0.64\n",
       "4     Dec 23, 2020  123.90  123.93  125.16  123.89   2693889     0.23\n",
       "...            ...     ...     ...     ...     ...       ...      ...\n",
       "4995  Feb 22, 2001  108.90  106.50  110.90  103.38  11709500     1.29\n",
       "4996  Feb 21, 2001  107.51  109.55  111.50  107.29   9158200    -3.58\n",
       "4997  Feb 20, 2001  111.50  114.55  115.60  110.78   6748300    -3.04\n",
       "4998  Feb 16, 2001  115.00  114.55  115.75  113.94   7073000    -1.52\n",
       "4999  Feb 15, 2001  116.78  116.80  118.64  116.38   8098700     1.46\n",
       "\n",
       "[5000 rows x 7 columns]"
      ]
     },
     "execution_count": 49,
     "metadata": {},
     "output_type": "execute_result"
    }
   ],
   "source": [
    "stock_price = pd.DataFrame({\n",
    "    'Date': date, \n",
    "    'Close': close, \n",
    "    'Open': Open, \n",
    "    'High': high, \n",
    "    'Low': low,\n",
    "    'Vol': vol,\n",
    "    'Change_%': change\n",
    "    })\n",
    "stock_price"
   ]
  },
  {
   "cell_type": "code",
   "execution_count": 50,
   "metadata": {},
   "outputs": [],
   "source": [
    "stock_price.to_csv('stock_price.csv', index=False)"
   ]
  },
  {
   "cell_type": "code",
   "execution_count": 133,
   "metadata": {},
   "outputs": [],
   "source": [
    "df = pd.read_csv('stock_price.csv', index_col=False)"
   ]
  },
  {
   "cell_type": "code",
   "execution_count": 52,
   "metadata": {},
   "outputs": [
    {
     "name": "stdout",
     "output_type": "stream",
     "text": [
      "<class 'pandas.core.frame.DataFrame'>\n",
      "RangeIndex: 5000 entries, 0 to 4999\n",
      "Data columns (total 7 columns):\n",
      " #   Column    Non-Null Count  Dtype  \n",
      "---  ------    --------------  -----  \n",
      " 0   Date      5000 non-null   object \n",
      " 1   Close     5000 non-null   float64\n",
      " 2   Open      5000 non-null   float64\n",
      " 3   High      5000 non-null   float64\n",
      " 4   Low       5000 non-null   float64\n",
      " 5   Vol       5000 non-null   int64  \n",
      " 6   Change_%  5000 non-null   float64\n",
      "dtypes: float64(5), int64(1), object(1)\n",
      "memory usage: 273.6+ KB\n"
     ]
    }
   ],
   "source": [
    "df.info()"
   ]
  }
 ],
 "metadata": {
  "kernelspec": {
   "display_name": "Python 3",
   "language": "python",
   "name": "python3"
  },
  "language_info": {
   "codemirror_mode": {
    "name": "ipython",
    "version": 3
   },
   "file_extension": ".py",
   "mimetype": "text/x-python",
   "name": "python",
   "nbconvert_exporter": "python",
   "pygments_lexer": "ipython3",
   "version": "3.7.5"
  }
 },
 "nbformat": 4,
 "nbformat_minor": 4
}
