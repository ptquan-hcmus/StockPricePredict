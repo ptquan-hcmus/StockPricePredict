{
 "cells": [
  {
   "cell_type": "code",
   "execution_count": 2,
   "metadata": {},
   "outputs": [],
   "source": [
    "from selenium import webdriver\n",
    "from selenium.webdriver.common.keys import Keys\n",
    "\n",
    "from selenium.webdriver.common.by import By\n",
    "from selenium.webdriver.support.ui import WebDriverWait\n",
    "from selenium.webdriver.support import expected_conditions as EC"
   ]
  },
  {
   "cell_type": "markdown",
   "metadata": {},
   "source": [
    "# Crawl stock price"
   ]
  },
  {
   "cell_type": "markdown",
   "metadata": {},
   "source": [
    "## Selenium"
   ]
  },
  {
   "cell_type": "code",
   "execution_count": 2,
   "metadata": {},
   "outputs": [],
   "source": [
    "apple_url = 'https://www.investing.com/equities/apple-computer-inc-historical-data'"
   ]
  },
  {
   "cell_type": "code",
   "execution_count": 3,
   "metadata": {},
   "outputs": [],
   "source": [
    "browser = webdriver.Chrome(executable_path='chromedriver.exe')\n",
    "browser.maximize_window()"
   ]
  },
  {
   "cell_type": "code",
   "execution_count": 17,
   "metadata": {},
   "outputs": [],
   "source": [
    "browser = webdriver.Firefox(executable_path='geckodriver.exe')"
   ]
  },
  {
   "cell_type": "code",
   "execution_count": 18,
   "metadata": {},
   "outputs": [],
   "source": [
    "browser.get(apple_url)"
   ]
  },
  {
   "cell_type": "markdown",
   "metadata": {},
   "source": [
    "### Close popup"
   ]
  },
  {
   "cell_type": "code",
   "execution_count": null,
   "metadata": {},
   "outputs": [],
   "source": [
    "browser.find_element_by_class_name('popupCloseIcon.largeBannerCloser').click()"
   ]
  },
  {
   "cell_type": "markdown",
   "metadata": {},
   "source": [
    "### Click the calendar"
   ]
  },
  {
   "cell_type": "code",
   "execution_count": 19,
   "metadata": {},
   "outputs": [],
   "source": [
    "browser.find_element_by_id('widgetFieldDateRange').click()"
   ]
  },
  {
   "cell_type": "markdown",
   "metadata": {},
   "source": [
    "### Find and input start date"
   ]
  },
  {
   "cell_type": "code",
   "execution_count": 21,
   "metadata": {},
   "outputs": [],
   "source": [
    "startDate = browser.find_element_by_id('startDate')\n",
    "startDate.clear()\n",
    "startDate.send_keys('02/15/2001')\n",
    "browser.find_element_by_id('applyBtn').send_keys(Keys.ENTER)"
   ]
  },
  {
   "cell_type": "markdown",
   "metadata": {},
   "source": [
    "### Look up value"
   ]
  },
  {
   "cell_type": "code",
   "execution_count": 22,
   "metadata": {},
   "outputs": [],
   "source": [
    "str_xpath = '/html/body/div[5]/section/div[9]/table[1]/tbody/tr[{}]/td[{}]'"
   ]
  },
  {
   "cell_type": "code",
   "execution_count": 23,
   "metadata": {},
   "outputs": [],
   "source": [
    "date = []\n",
    "close = []\n",
    "Open = []\n",
    "high = []\n",
    "low = []"
   ]
  },
  {
   "cell_type": "code",
   "execution_count": null,
   "metadata": {},
   "outputs": [],
   "source": [
    "%%time\n",
    "for i in range(1, 5000+1):\n",
    "    for j in range(1, 5+1):\n",
    "        xpath = str_xpath.format(i, j)\n",
    "        real_value = browser.find_element_by_xpath(xpath)\n",
    "        if j == 1:\n",
    "            date.append(real_value.text)\n",
    "        if j == 2:\n",
    "            close.append(real_value.text)\n",
    "        if j == 3:\n",
    "            Open.append(real_value.text)\n",
    "        if j == 4:\n",
    "            high.append(real_value.text)\n",
    "        if j == 5:\n",
    "            low.append(real_value.text)"
   ]
  },
  {
   "cell_type": "code",
   "execution_count": 25,
   "metadata": {},
   "outputs": [
    {
     "data": {
      "text/plain": [
       "5000"
      ]
     },
     "execution_count": 25,
     "metadata": {},
     "output_type": "execute_result"
    }
   ],
   "source": [
    "len(date)"
   ]
  },
  {
   "cell_type": "code",
   "execution_count": 26,
   "metadata": {},
   "outputs": [
    {
     "data": {
      "text/plain": [
       "5000"
      ]
     },
     "execution_count": 26,
     "metadata": {},
     "output_type": "execute_result"
    }
   ],
   "source": [
    "len(close)"
   ]
  },
  {
   "cell_type": "code",
   "execution_count": 27,
   "metadata": {},
   "outputs": [
    {
     "data": {
      "text/plain": [
       "5000"
      ]
     },
     "execution_count": 27,
     "metadata": {},
     "output_type": "execute_result"
    }
   ],
   "source": [
    "len(Open)"
   ]
  },
  {
   "cell_type": "code",
   "execution_count": 28,
   "metadata": {},
   "outputs": [
    {
     "data": {
      "text/plain": [
       "5000"
      ]
     },
     "execution_count": 28,
     "metadata": {},
     "output_type": "execute_result"
    }
   ],
   "source": [
    "len(high)"
   ]
  },
  {
   "cell_type": "code",
   "execution_count": 29,
   "metadata": {},
   "outputs": [
    {
     "data": {
      "text/plain": [
       "5000"
      ]
     },
     "execution_count": 29,
     "metadata": {},
     "output_type": "execute_result"
    }
   ],
   "source": [
    "len(low)"
   ]
  },
  {
   "cell_type": "markdown",
   "metadata": {},
   "source": [
    "## Save dataframe"
   ]
  },
  {
   "cell_type": "code",
   "execution_count": 2,
   "metadata": {},
   "outputs": [],
   "source": [
    "import pandas as pd"
   ]
  },
  {
   "cell_type": "code",
   "execution_count": 31,
   "metadata": {},
   "outputs": [
    {
     "data": {
      "text/html": [
       "<div>\n",
       "<style scoped>\n",
       "    .dataframe tbody tr th:only-of-type {\n",
       "        vertical-align: middle;\n",
       "    }\n",
       "\n",
       "    .dataframe tbody tr th {\n",
       "        vertical-align: top;\n",
       "    }\n",
       "\n",
       "    .dataframe thead th {\n",
       "        text-align: right;\n",
       "    }\n",
       "</style>\n",
       "<table border=\"1\" class=\"dataframe\">\n",
       "  <thead>\n",
       "    <tr style=\"text-align: right;\">\n",
       "      <th></th>\n",
       "      <th>Date</th>\n",
       "      <th>Close</th>\n",
       "      <th>Open</th>\n",
       "      <th>High</th>\n",
       "      <th>Low</th>\n",
       "    </tr>\n",
       "  </thead>\n",
       "  <tbody>\n",
       "    <tr>\n",
       "      <th>0</th>\n",
       "      <td>Dec 29, 2020</td>\n",
       "      <td>136.53</td>\n",
       "      <td>138.05</td>\n",
       "      <td>138.78</td>\n",
       "      <td>135.53</td>\n",
       "    </tr>\n",
       "    <tr>\n",
       "      <th>1</th>\n",
       "      <td>Dec 28, 2020</td>\n",
       "      <td>136.69</td>\n",
       "      <td>133.99</td>\n",
       "      <td>137.34</td>\n",
       "      <td>133.52</td>\n",
       "    </tr>\n",
       "    <tr>\n",
       "      <th>2</th>\n",
       "      <td>Dec 24, 2020</td>\n",
       "      <td>131.97</td>\n",
       "      <td>131.32</td>\n",
       "      <td>133.46</td>\n",
       "      <td>131.10</td>\n",
       "    </tr>\n",
       "    <tr>\n",
       "      <th>3</th>\n",
       "      <td>Dec 23, 2020</td>\n",
       "      <td>130.96</td>\n",
       "      <td>132.18</td>\n",
       "      <td>132.32</td>\n",
       "      <td>130.83</td>\n",
       "    </tr>\n",
       "    <tr>\n",
       "      <th>4</th>\n",
       "      <td>Dec 22, 2020</td>\n",
       "      <td>131.88</td>\n",
       "      <td>131.68</td>\n",
       "      <td>134.40</td>\n",
       "      <td>129.66</td>\n",
       "    </tr>\n",
       "    <tr>\n",
       "      <th>...</th>\n",
       "      <td>...</td>\n",
       "      <td>...</td>\n",
       "      <td>...</td>\n",
       "      <td>...</td>\n",
       "      <td>...</td>\n",
       "    </tr>\n",
       "    <tr>\n",
       "      <th>4995</th>\n",
       "      <td>Feb 22, 2001</td>\n",
       "      <td>0.34</td>\n",
       "      <td>0.34</td>\n",
       "      <td>0.35</td>\n",
       "      <td>0.32</td>\n",
       "    </tr>\n",
       "    <tr>\n",
       "      <th>4996</th>\n",
       "      <td>Feb 21, 2001</td>\n",
       "      <td>0.34</td>\n",
       "      <td>0.33</td>\n",
       "      <td>0.36</td>\n",
       "      <td>0.33</td>\n",
       "    </tr>\n",
       "    <tr>\n",
       "      <th>4997</th>\n",
       "      <td>Feb 20, 2001</td>\n",
       "      <td>0.33</td>\n",
       "      <td>0.34</td>\n",
       "      <td>0.35</td>\n",
       "      <td>0.32</td>\n",
       "    </tr>\n",
       "    <tr>\n",
       "      <th>4998</th>\n",
       "      <td>Feb 16, 2001</td>\n",
       "      <td>0.34</td>\n",
       "      <td>0.34</td>\n",
       "      <td>0.35</td>\n",
       "      <td>0.33</td>\n",
       "    </tr>\n",
       "    <tr>\n",
       "      <th>4999</th>\n",
       "      <td>Feb 15, 2001</td>\n",
       "      <td>0.36</td>\n",
       "      <td>0.35</td>\n",
       "      <td>0.37</td>\n",
       "      <td>0.35</td>\n",
       "    </tr>\n",
       "  </tbody>\n",
       "</table>\n",
       "<p>5000 rows × 5 columns</p>\n",
       "</div>"
      ],
      "text/plain": [
       "              Date   Close    Open    High     Low\n",
       "0     Dec 29, 2020  136.53  138.05  138.78  135.53\n",
       "1     Dec 28, 2020  136.69  133.99  137.34  133.52\n",
       "2     Dec 24, 2020  131.97  131.32  133.46  131.10\n",
       "3     Dec 23, 2020  130.96  132.18  132.32  130.83\n",
       "4     Dec 22, 2020  131.88  131.68  134.40  129.66\n",
       "...            ...     ...     ...     ...     ...\n",
       "4995  Feb 22, 2001    0.34    0.34    0.35    0.32\n",
       "4996  Feb 21, 2001    0.34    0.33    0.36    0.33\n",
       "4997  Feb 20, 2001    0.33    0.34    0.35    0.32\n",
       "4998  Feb 16, 2001    0.34    0.34    0.35    0.33\n",
       "4999  Feb 15, 2001    0.36    0.35    0.37    0.35\n",
       "\n",
       "[5000 rows x 5 columns]"
      ]
     },
     "execution_count": 31,
     "metadata": {},
     "output_type": "execute_result"
    }
   ],
   "source": [
    "columns = ['Date', 'Close', 'Open', 'High', 'Low']\n",
    "aapl_stock_price = pd.DataFrame({\n",
    "    'Date': date, \n",
    "    'Close': close, \n",
    "    'Open': Open, \n",
    "    'High': high, \n",
    "    'Low': low\n",
    "    })\n",
    "aapl_stock_price"
   ]
  },
  {
   "cell_type": "code",
   "execution_count": 33,
   "metadata": {},
   "outputs": [],
   "source": [
    "aapl_stock_price.to_csv('aapl_stock_price.csv', index=False)"
   ]
  },
  {
   "cell_type": "code",
   "execution_count": 3,
   "metadata": {},
   "outputs": [],
   "source": [
    "aapl_df = pd.read_csv('aapl_stock_price.csv', index_col=False)"
   ]
  },
  {
   "cell_type": "code",
   "execution_count": 6,
   "metadata": {},
   "outputs": [
    {
     "name": "stdout",
     "output_type": "stream",
     "text": [
      "<class 'pandas.core.frame.DataFrame'>\n",
      "RangeIndex: 5000 entries, 0 to 4999\n",
      "Data columns (total 5 columns):\n",
      "Date     5000 non-null object\n",
      "Close    5000 non-null float64\n",
      "Open     5000 non-null float64\n",
      "High     5000 non-null float64\n",
      "Low      5000 non-null float64\n",
      "dtypes: float64(4), object(1)\n",
      "memory usage: 195.4+ KB\n"
     ]
    }
   ],
   "source": [
    "aapl_df.info()"
   ]
  },
  {
   "cell_type": "code",
   "execution_count": 41,
   "metadata": {},
   "outputs": [
    {
     "data": {
      "text/html": [
       "<div>\n",
       "<style scoped>\n",
       "    .dataframe tbody tr th:only-of-type {\n",
       "        vertical-align: middle;\n",
       "    }\n",
       "\n",
       "    .dataframe tbody tr th {\n",
       "        vertical-align: top;\n",
       "    }\n",
       "\n",
       "    .dataframe thead th {\n",
       "        text-align: right;\n",
       "    }\n",
       "</style>\n",
       "<table border=\"1\" class=\"dataframe\">\n",
       "  <thead>\n",
       "    <tr style=\"text-align: right;\">\n",
       "      <th></th>\n",
       "      <th>Close</th>\n",
       "      <th>Open</th>\n",
       "      <th>High</th>\n",
       "      <th>Low</th>\n",
       "    </tr>\n",
       "  </thead>\n",
       "  <tbody>\n",
       "    <tr>\n",
       "      <th>count</th>\n",
       "      <td>5000.000000</td>\n",
       "      <td>5000.000000</td>\n",
       "      <td>5000.000000</td>\n",
       "      <td>5000.000000</td>\n",
       "    </tr>\n",
       "    <tr>\n",
       "      <th>mean</th>\n",
       "      <td>19.715890</td>\n",
       "      <td>19.708146</td>\n",
       "      <td>19.917360</td>\n",
       "      <td>19.497556</td>\n",
       "    </tr>\n",
       "    <tr>\n",
       "      <th>std</th>\n",
       "      <td>24.018699</td>\n",
       "      <td>24.002924</td>\n",
       "      <td>24.293137</td>\n",
       "      <td>23.716058</td>\n",
       "    </tr>\n",
       "    <tr>\n",
       "      <th>min</th>\n",
       "      <td>0.230000</td>\n",
       "      <td>0.230000</td>\n",
       "      <td>0.240000</td>\n",
       "      <td>0.230000</td>\n",
       "    </tr>\n",
       "    <tr>\n",
       "      <th>25%</th>\n",
       "      <td>2.260000</td>\n",
       "      <td>2.277500</td>\n",
       "      <td>2.307500</td>\n",
       "      <td>2.240000</td>\n",
       "    </tr>\n",
       "    <tr>\n",
       "      <th>50%</th>\n",
       "      <td>11.830000</td>\n",
       "      <td>11.795000</td>\n",
       "      <td>11.920000</td>\n",
       "      <td>11.670000</td>\n",
       "    </tr>\n",
       "    <tr>\n",
       "      <th>75%</th>\n",
       "      <td>28.362500</td>\n",
       "      <td>28.352500</td>\n",
       "      <td>28.590000</td>\n",
       "      <td>28.082500</td>\n",
       "    </tr>\n",
       "    <tr>\n",
       "      <th>max</th>\n",
       "      <td>136.690000</td>\n",
       "      <td>138.050000</td>\n",
       "      <td>138.780000</td>\n",
       "      <td>135.530000</td>\n",
       "    </tr>\n",
       "  </tbody>\n",
       "</table>\n",
       "</div>"
      ],
      "text/plain": [
       "             Close         Open         High          Low\n",
       "count  5000.000000  5000.000000  5000.000000  5000.000000\n",
       "mean     19.715890    19.708146    19.917360    19.497556\n",
       "std      24.018699    24.002924    24.293137    23.716058\n",
       "min       0.230000     0.230000     0.240000     0.230000\n",
       "25%       2.260000     2.277500     2.307500     2.240000\n",
       "50%      11.830000    11.795000    11.920000    11.670000\n",
       "75%      28.362500    28.352500    28.590000    28.082500\n",
       "max     136.690000   138.050000   138.780000   135.530000"
      ]
     },
     "execution_count": 41,
     "metadata": {},
     "output_type": "execute_result"
    }
   ],
   "source": [
    "aapl_df.describe()"
   ]
  },
  {
   "cell_type": "markdown",
   "metadata": {},
   "source": [
    "# Stock Indicators"
   ]
  },
  {
   "cell_type": "markdown",
   "metadata": {},
   "source": [
    "## Trend Indicators "
   ]
  },
  {
   "cell_type": "markdown",
   "metadata": {},
   "source": [
    "### SMA\n",
    "Simple moving average  \n",
    "http://www.fmlabs.com/reference/default.htm?url=SimpleMA.htm"
   ]
  },
  {
   "cell_type": "code",
   "execution_count": 4,
   "metadata": {},
   "outputs": [
    {
     "data": {
      "text/plain": [
       "0              NaN\n",
       "1              NaN\n",
       "2       135.063333\n",
       "3       133.206667\n",
       "4       131.603333\n",
       "           ...    \n",
       "4995      0.343333\n",
       "4996      0.340000\n",
       "4997      0.336667\n",
       "4998      0.336667\n",
       "4999      0.343333\n",
       "Name: Close, Length: 5000, dtype: float64"
      ]
     },
     "execution_count": 4,
     "metadata": {},
     "output_type": "execute_result"
    }
   ],
   "source": [
    "sma = aapl_df['Close'].rolling(window=3, min_periods=3).mean()\n",
    "sma"
   ]
  },
  {
   "cell_type": "code",
   "execution_count": 7,
   "metadata": {},
   "outputs": [
    {
     "data": {
      "text/html": [
       "<div>\n",
       "<style scoped>\n",
       "    .dataframe tbody tr th:only-of-type {\n",
       "        vertical-align: middle;\n",
       "    }\n",
       "\n",
       "    .dataframe tbody tr th {\n",
       "        vertical-align: top;\n",
       "    }\n",
       "\n",
       "    .dataframe thead th {\n",
       "        text-align: right;\n",
       "    }\n",
       "</style>\n",
       "<table border=\"1\" class=\"dataframe\">\n",
       "  <thead>\n",
       "    <tr style=\"text-align: right;\">\n",
       "      <th></th>\n",
       "      <th>Date</th>\n",
       "      <th>Close</th>\n",
       "      <th>Open</th>\n",
       "      <th>High</th>\n",
       "      <th>Low</th>\n",
       "      <th>SMA_3</th>\n",
       "    </tr>\n",
       "  </thead>\n",
       "  <tbody>\n",
       "    <tr>\n",
       "      <th>0</th>\n",
       "      <td>Dec 29, 2020</td>\n",
       "      <td>136.53</td>\n",
       "      <td>138.05</td>\n",
       "      <td>138.78</td>\n",
       "      <td>135.53</td>\n",
       "      <td>NaN</td>\n",
       "    </tr>\n",
       "    <tr>\n",
       "      <th>1</th>\n",
       "      <td>Dec 28, 2020</td>\n",
       "      <td>136.69</td>\n",
       "      <td>133.99</td>\n",
       "      <td>137.34</td>\n",
       "      <td>133.52</td>\n",
       "      <td>NaN</td>\n",
       "    </tr>\n",
       "    <tr>\n",
       "      <th>2</th>\n",
       "      <td>Dec 24, 2020</td>\n",
       "      <td>131.97</td>\n",
       "      <td>131.32</td>\n",
       "      <td>133.46</td>\n",
       "      <td>131.10</td>\n",
       "      <td>135.063333</td>\n",
       "    </tr>\n",
       "    <tr>\n",
       "      <th>3</th>\n",
       "      <td>Dec 23, 2020</td>\n",
       "      <td>130.96</td>\n",
       "      <td>132.18</td>\n",
       "      <td>132.32</td>\n",
       "      <td>130.83</td>\n",
       "      <td>133.206667</td>\n",
       "    </tr>\n",
       "    <tr>\n",
       "      <th>4</th>\n",
       "      <td>Dec 22, 2020</td>\n",
       "      <td>131.88</td>\n",
       "      <td>131.68</td>\n",
       "      <td>134.40</td>\n",
       "      <td>129.66</td>\n",
       "      <td>131.603333</td>\n",
       "    </tr>\n",
       "    <tr>\n",
       "      <th>...</th>\n",
       "      <td>...</td>\n",
       "      <td>...</td>\n",
       "      <td>...</td>\n",
       "      <td>...</td>\n",
       "      <td>...</td>\n",
       "      <td>...</td>\n",
       "    </tr>\n",
       "    <tr>\n",
       "      <th>4995</th>\n",
       "      <td>Feb 22, 2001</td>\n",
       "      <td>0.34</td>\n",
       "      <td>0.34</td>\n",
       "      <td>0.35</td>\n",
       "      <td>0.32</td>\n",
       "      <td>0.343333</td>\n",
       "    </tr>\n",
       "    <tr>\n",
       "      <th>4996</th>\n",
       "      <td>Feb 21, 2001</td>\n",
       "      <td>0.34</td>\n",
       "      <td>0.33</td>\n",
       "      <td>0.36</td>\n",
       "      <td>0.33</td>\n",
       "      <td>0.340000</td>\n",
       "    </tr>\n",
       "    <tr>\n",
       "      <th>4997</th>\n",
       "      <td>Feb 20, 2001</td>\n",
       "      <td>0.33</td>\n",
       "      <td>0.34</td>\n",
       "      <td>0.35</td>\n",
       "      <td>0.32</td>\n",
       "      <td>0.336667</td>\n",
       "    </tr>\n",
       "    <tr>\n",
       "      <th>4998</th>\n",
       "      <td>Feb 16, 2001</td>\n",
       "      <td>0.34</td>\n",
       "      <td>0.34</td>\n",
       "      <td>0.35</td>\n",
       "      <td>0.33</td>\n",
       "      <td>0.336667</td>\n",
       "    </tr>\n",
       "    <tr>\n",
       "      <th>4999</th>\n",
       "      <td>Feb 15, 2001</td>\n",
       "      <td>0.36</td>\n",
       "      <td>0.35</td>\n",
       "      <td>0.37</td>\n",
       "      <td>0.35</td>\n",
       "      <td>0.343333</td>\n",
       "    </tr>\n",
       "  </tbody>\n",
       "</table>\n",
       "<p>5000 rows × 6 columns</p>\n",
       "</div>"
      ],
      "text/plain": [
       "              Date   Close    Open    High     Low       SMA_3\n",
       "0     Dec 29, 2020  136.53  138.05  138.78  135.53         NaN\n",
       "1     Dec 28, 2020  136.69  133.99  137.34  133.52         NaN\n",
       "2     Dec 24, 2020  131.97  131.32  133.46  131.10  135.063333\n",
       "3     Dec 23, 2020  130.96  132.18  132.32  130.83  133.206667\n",
       "4     Dec 22, 2020  131.88  131.68  134.40  129.66  131.603333\n",
       "...            ...     ...     ...     ...     ...         ...\n",
       "4995  Feb 22, 2001    0.34    0.34    0.35    0.32    0.343333\n",
       "4996  Feb 21, 2001    0.34    0.33    0.36    0.33    0.340000\n",
       "4997  Feb 20, 2001    0.33    0.34    0.35    0.32    0.336667\n",
       "4998  Feb 16, 2001    0.34    0.34    0.35    0.33    0.336667\n",
       "4999  Feb 15, 2001    0.36    0.35    0.37    0.35    0.343333\n",
       "\n",
       "[5000 rows x 6 columns]"
      ]
     },
     "execution_count": 7,
     "metadata": {},
     "output_type": "execute_result"
    }
   ],
   "source": [
    "aapl_df['SMA_3'] = sma\n",
    "aapl_df"
   ]
  },
  {
   "cell_type": "code",
   "execution_count": 9,
   "metadata": {},
   "outputs": [],
   "source": [
    "aapl_df.to_csv('aapl_stock_price_with_sma.csv', index=False)"
   ]
  },
  {
   "cell_type": "markdown",
   "metadata": {},
   "source": [
    "### EMA\n",
    "Exponential moving average  \n",
    "https://www.fmlabs.com/reference/default.htm?url=ExpMA.htm  \n",
    "https://pandas.pydata.org/pandas-docs/stable/reference/api/pandas.DataFrame.ewm.html"
   ]
  },
  {
   "cell_type": "code",
   "execution_count": 15,
   "metadata": {},
   "outputs": [
    {
     "data": {
      "text/plain": [
       "0       136.530000\n",
       "1       136.610000\n",
       "2       134.290000\n",
       "3       132.625000\n",
       "4       132.252500\n",
       "           ...    \n",
       "4995      0.341622\n",
       "4996      0.340811\n",
       "4997      0.335405\n",
       "4998      0.337703\n",
       "4999      0.348851\n",
       "Name: Close, Length: 5000, dtype: float64"
      ]
     },
     "execution_count": 15,
     "metadata": {},
     "output_type": "execute_result"
    }
   ],
   "source": [
    "ema = aapl_df['Close'].ewm(span=3, adjust=False).mean()\n",
    "ema"
   ]
  },
  {
   "cell_type": "code",
   "execution_count": 16,
   "metadata": {},
   "outputs": [
    {
     "data": {
      "text/html": [
       "<div>\n",
       "<style scoped>\n",
       "    .dataframe tbody tr th:only-of-type {\n",
       "        vertical-align: middle;\n",
       "    }\n",
       "\n",
       "    .dataframe tbody tr th {\n",
       "        vertical-align: top;\n",
       "    }\n",
       "\n",
       "    .dataframe thead th {\n",
       "        text-align: right;\n",
       "    }\n",
       "</style>\n",
       "<table border=\"1\" class=\"dataframe\">\n",
       "  <thead>\n",
       "    <tr style=\"text-align: right;\">\n",
       "      <th></th>\n",
       "      <th>Date</th>\n",
       "      <th>Close</th>\n",
       "      <th>Open</th>\n",
       "      <th>High</th>\n",
       "      <th>Low</th>\n",
       "      <th>SMA_3</th>\n",
       "      <th>EMA_3</th>\n",
       "    </tr>\n",
       "  </thead>\n",
       "  <tbody>\n",
       "    <tr>\n",
       "      <th>0</th>\n",
       "      <td>Dec 29, 2020</td>\n",
       "      <td>136.53</td>\n",
       "      <td>138.05</td>\n",
       "      <td>138.78</td>\n",
       "      <td>135.53</td>\n",
       "      <td>136.530000</td>\n",
       "      <td>136.530000</td>\n",
       "    </tr>\n",
       "    <tr>\n",
       "      <th>1</th>\n",
       "      <td>Dec 28, 2020</td>\n",
       "      <td>136.69</td>\n",
       "      <td>133.99</td>\n",
       "      <td>137.34</td>\n",
       "      <td>133.52</td>\n",
       "      <td>136.610000</td>\n",
       "      <td>136.610000</td>\n",
       "    </tr>\n",
       "    <tr>\n",
       "      <th>2</th>\n",
       "      <td>Dec 24, 2020</td>\n",
       "      <td>131.97</td>\n",
       "      <td>131.32</td>\n",
       "      <td>133.46</td>\n",
       "      <td>131.10</td>\n",
       "      <td>135.063333</td>\n",
       "      <td>134.290000</td>\n",
       "    </tr>\n",
       "    <tr>\n",
       "      <th>3</th>\n",
       "      <td>Dec 23, 2020</td>\n",
       "      <td>130.96</td>\n",
       "      <td>132.18</td>\n",
       "      <td>132.32</td>\n",
       "      <td>130.83</td>\n",
       "      <td>133.206667</td>\n",
       "      <td>132.625000</td>\n",
       "    </tr>\n",
       "    <tr>\n",
       "      <th>4</th>\n",
       "      <td>Dec 22, 2020</td>\n",
       "      <td>131.88</td>\n",
       "      <td>131.68</td>\n",
       "      <td>134.40</td>\n",
       "      <td>129.66</td>\n",
       "      <td>131.603333</td>\n",
       "      <td>132.252500</td>\n",
       "    </tr>\n",
       "    <tr>\n",
       "      <th>...</th>\n",
       "      <td>...</td>\n",
       "      <td>...</td>\n",
       "      <td>...</td>\n",
       "      <td>...</td>\n",
       "      <td>...</td>\n",
       "      <td>...</td>\n",
       "      <td>...</td>\n",
       "    </tr>\n",
       "    <tr>\n",
       "      <th>4995</th>\n",
       "      <td>Feb 22, 2001</td>\n",
       "      <td>0.34</td>\n",
       "      <td>0.34</td>\n",
       "      <td>0.35</td>\n",
       "      <td>0.32</td>\n",
       "      <td>0.343333</td>\n",
       "      <td>0.341622</td>\n",
       "    </tr>\n",
       "    <tr>\n",
       "      <th>4996</th>\n",
       "      <td>Feb 21, 2001</td>\n",
       "      <td>0.34</td>\n",
       "      <td>0.33</td>\n",
       "      <td>0.36</td>\n",
       "      <td>0.33</td>\n",
       "      <td>0.340000</td>\n",
       "      <td>0.340811</td>\n",
       "    </tr>\n",
       "    <tr>\n",
       "      <th>4997</th>\n",
       "      <td>Feb 20, 2001</td>\n",
       "      <td>0.33</td>\n",
       "      <td>0.34</td>\n",
       "      <td>0.35</td>\n",
       "      <td>0.32</td>\n",
       "      <td>0.336667</td>\n",
       "      <td>0.335405</td>\n",
       "    </tr>\n",
       "    <tr>\n",
       "      <th>4998</th>\n",
       "      <td>Feb 16, 2001</td>\n",
       "      <td>0.34</td>\n",
       "      <td>0.34</td>\n",
       "      <td>0.35</td>\n",
       "      <td>0.33</td>\n",
       "      <td>0.336667</td>\n",
       "      <td>0.337703</td>\n",
       "    </tr>\n",
       "    <tr>\n",
       "      <th>4999</th>\n",
       "      <td>Feb 15, 2001</td>\n",
       "      <td>0.36</td>\n",
       "      <td>0.35</td>\n",
       "      <td>0.37</td>\n",
       "      <td>0.35</td>\n",
       "      <td>0.343333</td>\n",
       "      <td>0.348851</td>\n",
       "    </tr>\n",
       "  </tbody>\n",
       "</table>\n",
       "<p>5000 rows × 7 columns</p>\n",
       "</div>"
      ],
      "text/plain": [
       "              Date   Close    Open    High     Low       SMA_3       EMA_3\n",
       "0     Dec 29, 2020  136.53  138.05  138.78  135.53  136.530000  136.530000\n",
       "1     Dec 28, 2020  136.69  133.99  137.34  133.52  136.610000  136.610000\n",
       "2     Dec 24, 2020  131.97  131.32  133.46  131.10  135.063333  134.290000\n",
       "3     Dec 23, 2020  130.96  132.18  132.32  130.83  133.206667  132.625000\n",
       "4     Dec 22, 2020  131.88  131.68  134.40  129.66  131.603333  132.252500\n",
       "...            ...     ...     ...     ...     ...         ...         ...\n",
       "4995  Feb 22, 2001    0.34    0.34    0.35    0.32    0.343333    0.341622\n",
       "4996  Feb 21, 2001    0.34    0.33    0.36    0.33    0.340000    0.340811\n",
       "4997  Feb 20, 2001    0.33    0.34    0.35    0.32    0.336667    0.335405\n",
       "4998  Feb 16, 2001    0.34    0.34    0.35    0.33    0.336667    0.337703\n",
       "4999  Feb 15, 2001    0.36    0.35    0.37    0.35    0.343333    0.348851\n",
       "\n",
       "[5000 rows x 7 columns]"
      ]
     },
     "execution_count": 16,
     "metadata": {},
     "output_type": "execute_result"
    }
   ],
   "source": [
    "aapl_df['EMA_3'] = ema\n",
    "aapl_df"
   ]
  },
  {
   "cell_type": "markdown",
   "metadata": {},
   "source": [
    "## Mean Reversion Indicators"
   ]
  },
  {
   "cell_type": "markdown",
   "metadata": {},
   "source": [
    "### Bollinger Bands"
   ]
  },
  {
   "cell_type": "code",
   "execution_count": null,
   "metadata": {},
   "outputs": [],
   "source": []
  },
  {
   "cell_type": "markdown",
   "metadata": {},
   "source": [
    "## Volume Indicators"
   ]
  },
  {
   "cell_type": "markdown",
   "metadata": {},
   "source": [
    "### OBV\n",
    "https://www.fmlabs.com/reference/default.htm?url=OBV.htm  \n",
    "https://stackoverflow.com/a/60093990/9480586  \n",
    "https://github.com/Crypto-toolbox/pandas-technical-indicators/blob/master/technical_indicators.py#L417  \n",
    "OBV cần thông tin volume nữa"
   ]
  },
  {
   "cell_type": "markdown",
   "metadata": {},
   "source": [
    "## Momentum Indicators"
   ]
  },
  {
   "cell_type": "markdown",
   "metadata": {},
   "source": [
    "### MACD\n",
    "Moving Average Convergence Divergence  \n",
    "https://www.fmlabs.com/reference/default.htm?url=MACD.htm  \n",
    "https://github.com/Crypto-toolbox/pandas-technical-indicators/blob/master/technical_indicators.py#L219"
   ]
  },
  {
   "cell_type": "code",
   "execution_count": null,
   "metadata": {},
   "outputs": [],
   "source": []
  },
  {
   "cell_type": "markdown",
   "metadata": {},
   "source": [
    "## Relative Strength Indicators"
   ]
  },
  {
   "cell_type": "markdown",
   "metadata": {},
   "source": [
    "### STOCH\n",
    "Stochastic Oscillator"
   ]
  },
  {
   "cell_type": "code",
   "execution_count": null,
   "metadata": {},
   "outputs": [],
   "source": []
  },
  {
   "cell_type": "markdown",
   "metadata": {},
   "source": [
    "### RSI\n",
    "Relative Strength Index  \n",
    "https://www.fmlabs.com/reference/default.htm?url=RSI.htm  \n",
    "https://github.com/Crypto-toolbox/pandas-technical-indicators/blob/master/technical_indicators.py#L313"
   ]
  },
  {
   "cell_type": "code",
   "execution_count": null,
   "metadata": {},
   "outputs": [],
   "source": []
  }
 ],
 "metadata": {
  "kernelspec": {
   "display_name": "Python 3",
   "language": "python",
   "name": "python3"
  },
  "language_info": {
   "codemirror_mode": {
    "name": "ipython",
    "version": 3
   },
   "file_extension": ".py",
   "mimetype": "text/x-python",
   "name": "python",
   "nbconvert_exporter": "python",
   "pygments_lexer": "ipython3",
   "version": "3.7.5"
  }
 },
 "nbformat": 4,
 "nbformat_minor": 4
}
